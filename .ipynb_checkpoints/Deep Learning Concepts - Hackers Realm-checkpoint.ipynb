{
 "cells": [
  {
   "cell_type": "code",
   "execution_count": 1,
   "metadata": {
    "vscode": {
     "languageId": "plaintext"
    }
   },
   "outputs": [
    {
     "ename": "SyntaxError",
     "evalue": "invalid syntax (3710410600.py, line 1)",
     "output_type": "error",
     "traceback": [
      "\u001b[0;36m  Cell \u001b[0;32mIn[1], line 1\u001b[0;36m\u001b[0m\n\u001b[0;31m    explain what does this code do:import librosa\u001b[0m\n\u001b[0m            ^\u001b[0m\n\u001b[0;31mSyntaxError\u001b[0m\u001b[0;31m:\u001b[0m invalid syntax\n"
     ]
    }
   ],
   "source": [
    "import librosa\n",
    "import librosa.display\n",
    "import IPython.display as ipd\n",
    "import os\n",
    "import numpy as np\n",
    "for file in os.listdir('audio data/'):\n",
    "    print(file)\n",
    "ipd.Audio('audio data/OAF_back_happy.wav')\n",
    "\n",
    "ipd.Audio('audio data/OAF_back_happy.wav')\n",
    "\n",
    "def feature_extraction(file_path):\n",
    "    # load the audio file\n",
    "    x, sample_rate = librosa.load(file_path, res_type='kaiser_fast')\n",
    "    # extract features from the audio\n",
    "    mfcc = np.mean(librosa.feature.mfcc(y=x, sr=sample_rate, n_mfcc=50).T, axis=0)\n",
    "    \n",
    "    return mfcc\n",
    "features = {}\n",
    "directory = 'audio data/'\n",
    "for audio in os.listdir(directory):\n",
    "    audio_path = directory+audio\n",
    "    features[audio_path] = feature_extraction(audio_path)\n",
    "features[audio_path], len(features[audio_path])"
   ]
  },
  {
   "cell_type": "code",
   "execution_count": null,
   "metadata": {},
   "outputs": [],
   "source": []
  }
 ],
 "metadata": {
  "kernelspec": {
   "display_name": "Python 3 (ipykernel)",
   "language": "python",
   "name": "python3"
  },
  "language_info": {
   "codemirror_mode": {
    "name": "ipython",
    "version": 3
   },
   "file_extension": ".py",
   "mimetype": "text/x-python",
   "name": "python",
   "nbconvert_exporter": "python",
   "pygments_lexer": "ipython3",
   "version": "3.10.12"
  }
 },
 "nbformat": 4,
 "nbformat_minor": 4
}
