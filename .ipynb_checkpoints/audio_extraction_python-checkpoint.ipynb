{
 "cells": [
  {
   "cell_type": "code",
   "execution_count": null,
   "metadata": {},
   "outputs": [],
   "source": [
    "import librosa as librosa\n",
    "import numpy as np\n",
    "import matplotlib.pyplot as plt\n",
    "from matplotlib.backends.backend_agg import FigureCanvasAgg as FigureCanvas\n",
    "%matplotlib inline\n",
    "import librosa.display\n",
    "from IPython.display import Audio\n",
    "import pandas as pd\n",
    "import os\n",
    "from sklearn.model_selection import train_test_split\n",
    "import splitfolders\n",
    "import skimage.io"
   ]
  },
  {
   "cell_type": "code",
   "execution_count": null,
   "metadata": {},
   "outputs": [],
   "source": [
    "y, sr = librosa.load('h_1.wav', sr=32000)\n",
    "librosa.display.waveshow(y, sr= sr, x_axis='s')\n",
    "print(\"The sampled audio is returned as a numpy array (time series) and has \", y.shape, \" number of samples\")\n",
    "print(\"The 10 randomly picked consequitive samples of the audio are: \", y[3000:3010])"
   ]
  },
  {
   "cell_type": "code",
   "execution_count": null,
   "metadata": {},
   "outputs": [],
   "source": [
    "Audio('h_1.wav')"
   ]
  },
  {
   "cell_type": "code",
   "execution_count": null,
   "metadata": {},
   "outputs": [],
   "source": [
    "# Size of the Fast Fourier Transform (FFT), which will also be used as the window length\n",
    "n_fft=1024\n",
    "\n",
    "# Step or stride between windows. If the step is smaller than the window length, the windows will overlap\n",
    "hop_length=320\n",
    "\n",
    "# Specify the window type for FFT/STFT\n",
    "window_type ='hann'\n",
    "\n",
    "# Calculate the spectrogram as the square of the complex magnitude of the STFT\n",
    "spectrogram_librosa = np.abs(librosa.stft(y, n_fft=n_fft, hop_length=hop_length, win_length=n_fft, window=window_type)) ** 2\n",
    "\n",
    "print(\"The shape of spectrogram_librosa is: \", spectrogram_librosa.shape)\n",
    "print(\"The size of the spectrogram is ([(frame_size/2) + 1 x number of frames])\")\n",
    "print(\"The frame size that we have specified is the number of samples to consider for the STFT. In our case, it is equal to the n_fft\",n_fft, \" samples\")\n",
    "print(\"The number of frames depends on the total length of the sampled signal, the number of samples in each frame and the hop length.\")"
   ]
  },
  {
   "cell_type": "code",
   "execution_count": null,
   "metadata": {},
   "outputs": [],
   "source": [
    "librosa.display.specshow(spectrogram_librosa, sr=sr, x_axis='time', y_axis='linear',hop_length=hop_length)\n",
    "plt.title('Linear Frequency Power Spectrogram')\n",
    "plt.colorbar()\n",
    "plt.tight_layout()\n",
    "plt.show()"
   ]
  },
  {
   "cell_type": "code",
   "execution_count": null,
   "metadata": {},
   "outputs": [],
   "source": [
    "mel_spectrogram_db = librosa.power_to_db(Mel_spectrogram, ref=np.max)\n",
    "print(\"The shape of Log Mel spectrogram is: \", mel_spectrogram_db.shape)\n",
    "librosa.display.specshow(mel_spectrogram_db, sr=sr, x_axis='time', y_axis='mel',hop_length=hop_length)\n",
    "plt.colorbar(format='%+2.0f dB')\n",
    "plt.title('Log Mel spectrogram')\n",
    "plt.tight_layout()\n",
    "plt.show()"
   ]
  },
  {
   "cell_type": "code",
   "execution_count": null,
   "metadata": {},
   "outputs": [],
   "source": [
    "##### TO SAVE THE PLOT #####\n",
    "# METHOD 1\n",
    "fig = plt.Figure(figsize=(8,8), dpi=128, frameon=False)\n",
    "canvas = FigureCanvas(fig)\n",
    "ax = fig.add_subplot(111)\n",
    "ax.axes.get_xaxis().set_visible(False)\n",
    "ax.axes.get_yaxis().set_visible(False)\n",
    "ax.set_frame_on(False)\n",
    "librosa.display.specshow(mel_spectrogram_db, sr=sr, x_axis='time', y_axis='mel',hop_length=hop_length)\n",
    "fig.savefig('./'+str(1)+'.png', bbox_inches='tight', pad_inches=0, dpi=128)\n",
    "\n",
    "\n",
    "# METHOD 2\n",
    "def scale_minmax(X, min=0.0, max=1.0):\n",
    "    X_std = (X - X.min()) / (X.max() - X.min())\n",
    "    X_scaled = X_std * (max - min) + min\n",
    "    return X_scaled\n",
    "\n",
    "def spectrogram_image(mel_spectrogram_db, out):\n",
    "\n",
    "    # min-max scale to fit inside 8-bit range\n",
    "    img = scale_minmax(mel_spectrogram_db , 0, 255).astype(np.uint8)\n",
    "    img = np.flip(img, axis=0) # put low frequencies at the bottom in image\n",
    "    img = 255-img # invert. make black==more energy\n",
    "\n",
    "    # save as PNG\n",
    "    skimage.io.imsave(out, img)\n",
    "\n",
    "# convert to PNG\n",
    "out = 'out.png'\n",
    "spectrogram_image(mel_spectrogram_db, out=out)\n",
    "print('wrote file', out)"
   ]
  },
  {
   "cell_type": "code",
   "execution_count": null,
   "metadata": {},
   "outputs": [],
   "source": [
    "#### save as .npy\n",
    "with open('logMel.npy', 'wb') as f:\n",
    "    np.save(f,mel_spectrogram_db)\n",
    "    \n",
    "# Load the saved data as a confirmation  \n",
    "with open('logMel.npy', 'rb') as f:\n",
    "    a = np.load(f)\n",
    "    print(a.shape)\n",
    "    print(a)\n",
    "\n",
    "####save as a.txt file\n",
    "np.savetxt('logMel.out', mel_spectrogram_db, delimiter=',') # takes more space compared to saving as .npy"
   ]
  },
  {
   "cell_type": "code",
   "execution_count": null,
   "metadata": {},
   "outputs": [],
   "source": [
    "mel_filter_bank = librosa.filters.mel(sr=sr, n_fft=n_fft, n_mels=mel_bins, fmin=0.0, fmax=None, htk=False, norm='slaney')\n",
    "print(\"The shape of the mel filter bank is: \", mel_filter_bank.shape)\n",
    "librosa.display.specshow(mel_filter_bank, sr=sr, x_axis='linear')\n",
    "plt.colorbar(format='%+2.0f dB')\n",
    "plt.title('Mel filter bank')\n",
    "plt.tight_layout()\n",
    "plt.show()"
   ]
  }
 ],
 "metadata": {
  "language_info": {
   "name": "python"
  }
 },
 "nbformat": 4,
 "nbformat_minor": 2
}
